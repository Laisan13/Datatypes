{
 "cells": [
  {
   "cell_type": "markdown",
   "metadata": {},
   "source": [
    "Задание №1"
   ]
  },
  {
   "cell_type": "code",
   "execution_count": null,
   "metadata": {},
   "outputs": [],
   "source": [
    "word = (input('Введите слово: '))\n",
    "k = len(word)\n",
    "ser = float(k)\n",
    "if ser %2 == 0:\n",
    "    index_1= int((ser/2-1))\n",
    "    index_2= int(((ser/2)+1))\n",
    "    print (word[index_1:index_2])   \n",
    "else:\n",
    "    index_= int((ser // 2))\n",
    "    print (word[(index_)])"
   ]
  },
  {
   "cell_type": "markdown",
   "metadata": {},
   "source": [
    "Задание №2"
   ]
  },
  {
   "cell_type": "code",
   "execution_count": null,
   "metadata": {},
   "outputs": [],
   "source": [
    "sum_ = 0\n",
    "number = float((input('Введите число: ')))\n",
    "while number != 0:\n",
    "    print(number)\n",
    "    sum_+= number\n",
    "    number = float((input('Введите число: ')))       \n",
    "sum_  "
   ]
  },
  {
   "cell_type": "markdown",
   "metadata": {},
   "source": [
    "Задание №3"
   ]
  },
  {
   "cell_type": "code",
   "execution_count": 1,
   "metadata": {},
   "outputs": [
    {
     "name": "stdout",
     "output_type": "stream",
     "text": [
      "Идеальные пары:\n",
      "Alex и Emma\n",
      "Arthur и Kate\n",
      "John и Kira\n",
      "Peter и Liza\n",
      "Richard и Trisha\n"
     ]
    }
   ],
   "source": [
    "boys = ['Peter', 'Alex', 'John', 'Arthur', 'Richard']\n",
    "girls = ['Kate', 'Liza', 'Kira', 'Emma', 'Trisha']\n",
    "girls.sort()\n",
    "boys.sort()\n",
    "i=0\n",
    "j=0\n",
    "if len(boys)==len(girls):\n",
    "    print(\"Идеальные пары:\")\n",
    "    for boy in boys:\n",
    "        print(f'{boys[i]} и {girls[j]}')\n",
    "        i += 1\n",
    "        j += 1\n",
    "else:\n",
    "        print(\"Внимание, кто-то может остаться без пары!\")"
   ]
  },
  {
   "cell_type": "markdown",
   "metadata": {},
   "source": [
    "Задание №4"
   ]
  },
  {
   "cell_type": "code",
   "execution_count": 12,
   "metadata": {},
   "outputs": [
    {
     "name": "stdout",
     "output_type": "stream",
     "text": [
      "Thailand - 74.94  C\n",
      "Germany - 56.84  C\n",
      "Russia - 38.69  C\n",
      "Poland - 53.6  C\n"
     ]
    }
   ],
   "source": [
    "countries_temperature = [\n",
    "    ['Thailand', [75.2, 77, 78.8, 73.4, 68, 75.2, 77]],\n",
    "    ['Germany', [57.2, 55.4, 59, 59, 53.6]],\n",
    "    ['Russia', [35.6, 37.4, 39.2, 41, 42.8, 39.2, 35.6]],\n",
    "    ['Poland', [50, 50, 53.6, 57.2, 55.4, 55.4]]\n",
    "]\n",
    "i=0\n",
    "for countri in countries_temperature:\n",
    "    j = (sum(countries_temperature[i][1]))/(len(countries_temperature[i][1]))\n",
    "    print(f'{countries_temperature[i][0]} - {(round(j,2))}  C')\n",
    "    i +=1"
   ]
  },
  {
   "cell_type": "markdown",
   "metadata": {},
   "source": [
    "Задание №5"
   ]
  },
  {
   "cell_type": "code",
   "execution_count": 2,
   "metadata": {},
   "outputs": [
    {
     "name": "stdout",
     "output_type": "stream",
     "text": [
      "Среднее количество просмотров на уникального пользователя:  28.5\n"
     ]
    }
   ],
   "source": [
    "stream = [\n",
    "    '2018-01-01,user1,3',\n",
    "    '2018-01-07,user1,4',\n",
    "    '2018-03-29,user1,1',\n",
    "    '2018-04-04,user1,13',\n",
    "    '2018-01-05,user2,7',\n",
    "    '2018-06-14,user3,4',\n",
    "    '2018-07-02,user3,20',\n",
    "    '2018-03-21,user4,19',\n",
    "    '2018-03-22,user4,4',\n",
    "    '2018-04-22,user4,19',\n",
    "    '2018-05-03,user4,9',\n",
    "    '2018-05-11,user4,11',\n",
    "]\n",
    "stream_ = []\n",
    "for element in stream:\n",
    "    i = element.split(',')\n",
    "    stream_.append(i)\n",
    "new = []\n",
    "for element in stream_:\n",
    "    if element [1] not in new: \n",
    "        new.append(element[1])\n",
    "vizit=0\n",
    "for element in stream_:\n",
    "    vizit += int(element[2])\n",
    "j = vizit /len(new)  \n",
    "print (\"Среднее количество просмотров на уникального пользователя: \", j)"
   ]
  },
  {
   "cell_type": "markdown",
   "metadata": {},
   "source": [
    "Задание №6"
   ]
  },
  {
   "cell_type": "code",
   "execution_count": 14,
   "metadata": {},
   "outputs": [
    {
     "name": "stdout",
     "output_type": "stream",
     "text": [
      "Введите числа:1 2 4 5 1 2 4\n",
      "1 2 4\n"
     ]
    }
   ],
   "source": [
    "new = ((input (\"Введите числа:\")))\n",
    "new = list(new.replace(' ', ''))\n",
    "new_ = []\n",
    "stream = []\n",
    "for element in new:\n",
    "    if new.count (element) > 1:\n",
    "        new_.append(element)\n",
    "for element in new_:\n",
    "    if element not in stream:\n",
    "        stream.append(element)\n",
    "print(' '.join (stream)) "
   ]
  }
 ],
 "metadata": {
  "kernelspec": {
   "display_name": "Python 3",
   "language": "python",
   "name": "python3"
  },
  "language_info": {
   "codemirror_mode": {
    "name": "ipython",
    "version": 3
   },
   "file_extension": ".py",
   "mimetype": "text/x-python",
   "name": "python",
   "nbconvert_exporter": "python",
   "pygments_lexer": "ipython3",
   "version": "3.8.5"
  }
 },
 "nbformat": 4,
 "nbformat_minor": 4
}
