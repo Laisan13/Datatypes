{
 "cells": [
  {
   "cell_type": "markdown",
   "metadata": {},
   "source": [
    "Задание №1"
   ]
  },
  {
   "cell_type": "code",
   "execution_count": 12,
   "metadata": {},
   "outputs": [
    {
     "name": "stdout",
     "output_type": "stream",
     "text": [
      "{98, 35, 15, 213, 54, 119}\n"
     ]
    }
   ],
   "source": [
    "ids = {'user1': [213, 213, 213, 15, 213], \n",
    "       'user2': [54, 54, 119, 119, 119], \n",
    "       'user3': [213, 98, 98, 35]}\n",
    "ids_dict=list(ids.values())\n",
    "a_set =set()\n",
    "for elem in ids_dict:\n",
    "    for line in elem:\n",
    "        a_set.add(line)\n",
    "print(a_set)"
   ]
  },
  {
   "cell_type": "markdown",
   "metadata": {},
   "source": [
    "Задание №2"
   ]
  },
  {
   "cell_type": "code",
   "execution_count": 43,
   "metadata": {},
   "outputs": [
    {
     "name": "stdout",
     "output_type": "stream",
     "text": [
      "Поисковых запросов, содержащих 3 слов(а): 57.14 % \n",
      "Поисковых запросов, содержащих 2 слов(а): 42.86 % \n"
     ]
    }
   ],
   "source": [
    "queries = [\n",
    "    'смотреть сериалы онлайн',\n",
    "    'новости спорта',\n",
    "    'афиша кино',\n",
    "    'курс доллара',\n",
    "    'сериалы этим летом',\n",
    "    'курс по питону',\n",
    "    'сериалы про спорт',\n",
    "]\n",
    "res = {}\n",
    "queries_2 = []\n",
    "for element in queries:\n",
    "    queries_1 = element.split(',')\n",
    "    for line in queries_1:\n",
    "        word = element.split(' ')\n",
    "        \"\"\"разделяем на списки слова элемента из списка queries \"\"\"\n",
    "        queries_2.append(len(word))\n",
    "        \"\"\"добавляем полученные числа в новый список queries_2\"\"\"\n",
    "        queries_3 = set(queries_2)\n",
    "        j = 0\n",
    "        for i in queries_3:\n",
    "            res[i] =  queries_2.count(i)\n",
    "            j += queries_2.count(i)\n",
    "for key, value in res.items():\n",
    "    t = (value / j)*100\n",
    "    print(f\"Поисковых запросов, содержащих {key} слов(а): {round(t,2)} % \")"
   ]
  },
  {
   "cell_type": "markdown",
   "metadata": {},
   "source": [
    "  Задание №3"
   ]
  },
  {
   "cell_type": "code",
   "execution_count": 51,
   "metadata": {},
   "outputs": [
    {
     "name": "stdout",
     "output_type": "stream",
     "text": [
      "{'vk': {'revenue': 103, 'cost': 98, 'ROI': 5.102040816326525}, 'yandex': {'revenue': 179, 'cost': 153, 'ROI': 16.99346405228759}, 'facebook': {'revenue': 103, 'cost': 110, 'ROI': -6.36363636363636}, 'adwords': {'revenue': 35, 'cost': 34, 'ROI': 2.941176470588225}, 'twitter': {'revenue': 11, 'cost': 24, 'ROI': -54.16666666666667}}\n"
     ]
    }
   ],
   "source": [
    "results = {\n",
    "    'vk': {'revenue': 103, 'cost': 98},\n",
    "    'yandex': {'revenue': 179, 'cost': 153},\n",
    "    'facebook': {'revenue': 103, 'cost': 110},\n",
    "    'adwords': {'revenue': 35, 'cost': 34},\n",
    "    'twitter': {'revenue': 11, 'cost': 24},\n",
    "}\n",
    "element_1 = {}\n",
    "for element in results.values():\n",
    "        element_1 ['ROI'] = ((element['revenue']/element['cost']-1)*100)\n",
    "        element.update(element_1)\n",
    "print(results)"
   ]
  },
  {
   "cell_type": "markdown",
   "metadata": {},
   "source": [
    "Задание №4"
   ]
  },
  {
   "cell_type": "code",
   "execution_count": 11,
   "metadata": {},
   "outputs": [
    {
     "name": "stdout",
     "output_type": "stream",
     "text": [
      "Максимальный объем продаж на рекламном канале:yandex\n"
     ]
    }
   ],
   "source": [
    "stats = {'facebook': 55, 'yandex': 170, 'vk': 120, 'google': 140, 'email': 100, 'ok': 98}\n",
    "for key in stats.keys():\n",
    "    if  stats [key] == max(stats.values()):\n",
    "        print (f\"Максимальный объем продаж на рекламном канале:{key}\")"
   ]
  },
  {
   "cell_type": "markdown",
   "metadata": {},
   "source": [
    "Задание №5"
   ]
  },
  {
   "cell_type": "code",
   "execution_count": 2,
   "metadata": {},
   "outputs": [
    {
     "name": "stdout",
     "output_type": "stream",
     "text": [
      "{'a': {'b': {'c': {'d': {'e': 'f'}}}}}\n"
     ]
    }
   ],
   "source": [
    "from functools import reduce\n",
    "my_list = ['a', 'b', 'c', 'd', 'e', 'f']\n",
    "print(reduce(lambda val, key: {key: val}, reversed(my_list)))\n"
   ]
  },
  {
   "cell_type": "code",
   "execution_count": 5,
   "metadata": {},
   "outputs": [
    {
     "name": "stdout",
     "output_type": "stream",
     "text": [
      "{'2018-01-01': {'yandex': {'cpc': 100}}}\n"
     ]
    }
   ],
   "source": [
    "my_list = ['2018-01-01', 'yandex', 'cpc', 100]\n",
    "my_list.reverse()\n",
    "my_dict = {}\n",
    "my_dict [my_list[1]] = my_list[0]\n",
    "my_dict1 = {}\n",
    "g = len(my_list)\n",
    "i = 2\n",
    "import copy\n",
    "while i != g:\n",
    "    my_dict1 [my_list[i]] = my_dict\n",
    "    my_dict = copy.copy(my_dict1)\n",
    "    i += 1\n",
    "    my_dict1 ={}\n",
    "print(my_dict)  "
   ]
  }
 ],
 "metadata": {
  "kernelspec": {
   "display_name": "Python 3",
   "language": "python",
   "name": "python3"
  },
  "language_info": {
   "codemirror_mode": {
    "name": "ipython",
    "version": 3
   },
   "file_extension": ".py",
   "mimetype": "text/x-python",
   "name": "python",
   "nbconvert_exporter": "python",
   "pygments_lexer": "ipython3",
   "version": "3.8.5"
  }
 },
 "nbformat": 4,
 "nbformat_minor": 4
}
